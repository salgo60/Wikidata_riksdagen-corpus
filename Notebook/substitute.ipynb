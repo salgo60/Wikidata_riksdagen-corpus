{
 "cells": [
  {
   "cell_type": "markdown",
   "id": "2cea3f53",
   "metadata": {},
   "source": [
    "### Get substitute from Riksdagens öppna data\n",
    "* see [#115](https://github.com/salgo60/Wikidata_riksdagen-corpus/issues/115#issuecomment-1571957413) \n",
    "* this [notebook](https://github.com/salgo60/Wikidata_riksdagen-corpus/blob/main/Notebook/substitute.ipynb)"
   ]
  },
  {
   "cell_type": "code",
   "execution_count": 1,
   "id": "21bc7f17",
   "metadata": {},
   "outputs": [
    {
     "name": "stdout",
     "output_type": "stream",
     "text": [
      "Last run:  2023-06-01 14:41:08.270909\n"
     ]
    }
   ],
   "source": [
    "from datetime import datetime\n",
    "start_time  = datetime.now()\n",
    "print(\"Last run: \", start_time)"
   ]
  },
  {
   "cell_type": "code",
   "execution_count": 30,
   "id": "41ea2ef7",
   "metadata": {},
   "outputs": [
    {
     "name": "stdout",
     "output_type": "stream",
     "text": [
      "<class 'pandas.core.frame.DataFrame'>\n",
      "RangeIndex: 30377 entries, 0 to 30376\n",
      "Data columns (total 24 columns):\n",
      " #   Column                   Non-Null Count  Dtype \n",
      "---  ------                   --------------  ----- \n",
      " 0   organ_kod                30377 non-null  object\n",
      " 1   roll_kod                 30377 non-null  object\n",
      " 2   ordningsnummer           30377 non-null  object\n",
      " 3   status                   30377 non-null  object\n",
      " 4   typ                      30377 non-null  object\n",
      " 5   from                     30377 non-null  object\n",
      " 6   tom                      30377 non-null  object\n",
      " 7   uppgift                  30377 non-null  object\n",
      " 8   intressent_id            30377 non-null  object\n",
      " 9   hangar_id                30377 non-null  object\n",
      " 10  sortering                30377 non-null  object\n",
      " 11  organ_sortering          30377 non-null  object\n",
      " 12  uppdrag_rollsortering    30377 non-null  object\n",
      " 13  uppdrag_statussortering  30377 non-null  object\n",
      " 14  hangar_guid              30377 non-null  object\n",
      " 15  sourceid                 30377 non-null  object\n",
      " 16  fodd_ar                  30377 non-null  object\n",
      " 17  kon                      30377 non-null  object\n",
      " 18  efternamn                30377 non-null  object\n",
      " 19  tilltalsnamn             30377 non-null  object\n",
      " 20  sorteringsnamn           30377 non-null  object\n",
      " 21  iort                     30377 non-null  object\n",
      " 22  parti                    30377 non-null  object\n",
      " 23  valkrets                 30377 non-null  object\n",
      "dtypes: object(24)\n",
      "memory usage: 5.6+ MB\n"
     ]
    }
   ],
   "source": [
    "import urllib3, json\n",
    "import pandas as pd \n",
    "http = urllib3.PoolManager() \n",
    "\n",
    "\n",
    "import requests\n",
    "import pandas as pd\n",
    "\n",
    "# Fetch the JSON data from the URL\n",
    "response = requests.get('https://data.riksdagen.se/personlista/?rdlstatus=samtliga&utformat=json&termlista=')\n",
    "data = response.json()\n",
    "\n",
    "# Extract the list of people from the JSON data\n",
    "people = data['personlista']['person']\n",
    "\n",
    "# Flatten the person data and the role data separately, then join them together\n",
    "person_df = pd.json_normalize(people, record_path=['personuppdrag', 'uppdrag'], meta=[\n",
    "    'hangar_guid', \n",
    "    'sourceid', \n",
    "    'fodd_ar', \n",
    "    'kon', \n",
    "    'efternamn', \n",
    "    'tilltalsnamn', \n",
    "    'sorteringsnamn', \n",
    "    'iort', \n",
    "    'parti', \n",
    "    'valkrets'], \n",
    "    errors='ignore')\n",
    "\n",
    "person_df.info()"
   ]
  },
  {
   "cell_type": "code",
   "execution_count": 31,
   "id": "43e56e91",
   "metadata": {},
   "outputs": [
    {
     "data": {
      "text/plain": [
       "                   23369\n",
       "Tjänstgörande       5162\n",
       "Ersättare           1054\n",
       "Ledig                774\n",
       "Ledig Ersättare       18\n",
       "Name: status, dtype: int64"
      ]
     },
     "execution_count": 31,
     "metadata": {},
     "output_type": "execute_result"
    }
   ],
   "source": [
    "person_df.status.value_counts()"
   ]
  },
  {
   "cell_type": "code",
   "execution_count": 34,
   "id": "568bcea9",
   "metadata": {},
   "outputs": [
    {
     "name": "stdout",
     "output_type": "stream",
     "text": [
      "<class 'pandas.core.frame.DataFrame'>\n",
      "Int64Index: 1054 entries, 127 to 30340\n",
      "Data columns (total 24 columns):\n",
      " #   Column                   Non-Null Count  Dtype \n",
      "---  ------                   --------------  ----- \n",
      " 0   organ_kod                1054 non-null   object\n",
      " 1   roll_kod                 1054 non-null   object\n",
      " 2   ordningsnummer           1054 non-null   object\n",
      " 3   status                   1054 non-null   object\n",
      " 4   typ                      1054 non-null   object\n",
      " 5   from                     1054 non-null   object\n",
      " 6   tom                      1054 non-null   object\n",
      " 7   uppgift                  1054 non-null   object\n",
      " 8   intressent_id            1054 non-null   object\n",
      " 9   hangar_id                1054 non-null   object\n",
      " 10  sortering                1054 non-null   object\n",
      " 11  organ_sortering          1054 non-null   object\n",
      " 12  uppdrag_rollsortering    1054 non-null   object\n",
      " 13  uppdrag_statussortering  1054 non-null   object\n",
      " 14  hangar_guid              1054 non-null   object\n",
      " 15  sourceid                 1054 non-null   object\n",
      " 16  fodd_ar                  1054 non-null   object\n",
      " 17  kon                      1054 non-null   object\n",
      " 18  efternamn                1054 non-null   object\n",
      " 19  tilltalsnamn             1054 non-null   object\n",
      " 20  sorteringsnamn           1054 non-null   object\n",
      " 21  iort                     1054 non-null   object\n",
      " 22  parti                    1054 non-null   object\n",
      " 23  valkrets                 1054 non-null   object\n",
      "dtypes: object(24)\n",
      "memory usage: 205.9+ KB\n"
     ]
    }
   ],
   "source": [
    "dfSubstitute = person_df[person_df[\"status\"] == \"Ersättare\"]\n",
    "dfSubstitute.info()"
   ]
  },
  {
   "cell_type": "code",
   "execution_count": 42,
   "id": "40ca7fd5",
   "metadata": {},
   "outputs": [
    {
     "data": {
      "text/html": [
       "<div>\n",
       "<style scoped>\n",
       "    .dataframe tbody tr th:only-of-type {\n",
       "        vertical-align: middle;\n",
       "    }\n",
       "\n",
       "    .dataframe tbody tr th {\n",
       "        vertical-align: top;\n",
       "    }\n",
       "\n",
       "    .dataframe thead th {\n",
       "        text-align: right;\n",
       "    }\n",
       "</style>\n",
       "<table border=\"1\" class=\"dataframe\">\n",
       "  <thead>\n",
       "    <tr style=\"text-align: right;\">\n",
       "      <th></th>\n",
       "      <th>intressent_id</th>\n",
       "      <th>tilltalsnamn</th>\n",
       "      <th>efternamn</th>\n",
       "      <th>status</th>\n",
       "      <th>uppgift</th>\n",
       "    </tr>\n",
       "  </thead>\n",
       "  <tbody>\n",
       "    <tr>\n",
       "      <th>127</th>\n",
       "      <td>0979018047922</td>\n",
       "      <td>Kajsa</td>\n",
       "      <td>Lunderquist</td>\n",
       "      <td>Ersättare</td>\n",
       "      <td>[Tobias Billström]</td>\n",
       "    </tr>\n",
       "    <tr>\n",
       "      <th>129</th>\n",
       "      <td>0979018047922</td>\n",
       "      <td>Kajsa</td>\n",
       "      <td>Lunderquist</td>\n",
       "      <td>Ersättare</td>\n",
       "      <td>[Tobias Billström]</td>\n",
       "    </tr>\n",
       "    <tr>\n",
       "      <th>157</th>\n",
       "      <td>0720249554818</td>\n",
       "      <td>Börje</td>\n",
       "      <td>Vestlund</td>\n",
       "      <td>Ersättare</td>\n",
       "      <td>[Stefan Löfven]</td>\n",
       "    </tr>\n",
       "    <tr>\n",
       "      <th>158</th>\n",
       "      <td>0720249554818</td>\n",
       "      <td>Börje</td>\n",
       "      <td>Vestlund</td>\n",
       "      <td>Ersättare</td>\n",
       "      <td>[Anders Ygeman]</td>\n",
       "    </tr>\n",
       "    <tr>\n",
       "      <th>161</th>\n",
       "      <td>0720249554818</td>\n",
       "      <td>Börje</td>\n",
       "      <td>Vestlund</td>\n",
       "      <td>Ersättare</td>\n",
       "      <td>[Bosse Ringholm]</td>\n",
       "    </tr>\n",
       "    <tr>\n",
       "      <th>...</th>\n",
       "      <td>...</td>\n",
       "      <td>...</td>\n",
       "      <td>...</td>\n",
       "      <td>...</td>\n",
       "      <td>...</td>\n",
       "    </tr>\n",
       "    <tr>\n",
       "      <th>30313</th>\n",
       "      <td>0381853591928</td>\n",
       "      <td>Malte</td>\n",
       "      <td>Roos</td>\n",
       "      <td>Ersättare</td>\n",
       "      <td>[Rasmus Ling]</td>\n",
       "    </tr>\n",
       "    <tr>\n",
       "      <th>30318</th>\n",
       "      <td>0639398547124</td>\n",
       "      <td>Bassem</td>\n",
       "      <td>Nasr</td>\n",
       "      <td>Ersättare</td>\n",
       "      <td>[Rasmus Ling]</td>\n",
       "    </tr>\n",
       "    <tr>\n",
       "      <th>30326</th>\n",
       "      <td>0591055036519</td>\n",
       "      <td>Mauricio</td>\n",
       "      <td>Rojas</td>\n",
       "      <td>Ersättare</td>\n",
       "      <td>[Lars Leijonborg]</td>\n",
       "    </tr>\n",
       "    <tr>\n",
       "      <th>30338</th>\n",
       "      <td>0845783625227</td>\n",
       "      <td>Arwin</td>\n",
       "      <td>Sohrabi</td>\n",
       "      <td>Ersättare</td>\n",
       "      <td>[Rose-Marie Carlsson]</td>\n",
       "    </tr>\n",
       "    <tr>\n",
       "      <th>30340</th>\n",
       "      <td>0747883322423</td>\n",
       "      <td>Amir</td>\n",
       "      <td>Jawad</td>\n",
       "      <td>Ersättare</td>\n",
       "      <td>[Mauricio Rojas]</td>\n",
       "    </tr>\n",
       "  </tbody>\n",
       "</table>\n",
       "<p>1054 rows × 5 columns</p>\n",
       "</div>"
      ],
      "text/plain": [
       "       intressent_id tilltalsnamn    efternamn     status  \\\n",
       "127    0979018047922        Kajsa  Lunderquist  Ersättare   \n",
       "129    0979018047922        Kajsa  Lunderquist  Ersättare   \n",
       "157    0720249554818        Börje     Vestlund  Ersättare   \n",
       "158    0720249554818        Börje     Vestlund  Ersättare   \n",
       "161    0720249554818        Börje     Vestlund  Ersättare   \n",
       "...              ...          ...          ...        ...   \n",
       "30313  0381853591928        Malte         Roos  Ersättare   \n",
       "30318  0639398547124       Bassem         Nasr  Ersättare   \n",
       "30326  0591055036519     Mauricio        Rojas  Ersättare   \n",
       "30338  0845783625227        Arwin      Sohrabi  Ersättare   \n",
       "30340  0747883322423         Amir        Jawad  Ersättare   \n",
       "\n",
       "                     uppgift  \n",
       "127       [Tobias Billström]  \n",
       "129       [Tobias Billström]  \n",
       "157          [Stefan Löfven]  \n",
       "158          [Anders Ygeman]  \n",
       "161         [Bosse Ringholm]  \n",
       "...                      ...  \n",
       "30313          [Rasmus Ling]  \n",
       "30318          [Rasmus Ling]  \n",
       "30326      [Lars Leijonborg]  \n",
       "30338  [Rose-Marie Carlsson]  \n",
       "30340       [Mauricio Rojas]  \n",
       "\n",
       "[1054 rows x 5 columns]"
      ]
     },
     "execution_count": 42,
     "metadata": {},
     "output_type": "execute_result"
    }
   ],
   "source": [
    "dfSubstitute[[\"intressent_id\",\"tilltalsnamn\",\"efternamn\",\"status\",\"uppgift\"]]"
   ]
  },
  {
   "cell_type": "code",
   "execution_count": 41,
   "id": "83f4da55",
   "metadata": {},
   "outputs": [
    {
     "name": "stdout",
     "output_type": "stream",
     "text": [
      "Ended:  2023-06-01 17:30:38.382326\n",
      "Time elapsed (hh:mm:ss.ms) 2:49:30.112245\n"
     ]
    }
   ],
   "source": [
    "end = datetime.now()\n",
    "print(\"Ended: \", end) \n",
    "print('Time elapsed (hh:mm:ss.ms) {}'.format(datetime.now() - start_time))"
   ]
  },
  {
   "cell_type": "code",
   "execution_count": null,
   "id": "3ed0aca0",
   "metadata": {},
   "outputs": [],
   "source": []
  }
 ],
 "metadata": {
  "kernelspec": {
   "display_name": "Python 3",
   "language": "python",
   "name": "python3"
  },
  "language_info": {
   "codemirror_mode": {
    "name": "ipython",
    "version": 3
   },
   "file_extension": ".py",
   "mimetype": "text/x-python",
   "name": "python",
   "nbconvert_exporter": "python",
   "pygments_lexer": "ipython3",
   "version": "3.9.13"
  }
 },
 "nbformat": 4,
 "nbformat_minor": 5
}
