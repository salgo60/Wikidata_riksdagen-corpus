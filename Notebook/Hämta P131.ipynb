{
 "cells": [
  {
   "cell_type": "markdown",
   "id": "749a7e1b",
   "metadata": {},
   "source": [
    "### Hämta P131 med URL\n",
    "* denna [Notebook](https://github.com/salgo60/Wikidata_riksdagen-corpus/blob/main/Notebook/H%C3%A4mta%20P131.ipynb)\n",
    "\n",
    "* se [issue 10](https://github.com/perrohdin/Bildhistoria-Masterdata-och-Wikidata/issues/10)"
   ]
  },
  {
   "cell_type": "code",
   "execution_count": 1,
   "id": "e644951c",
   "metadata": {},
   "outputs": [
    {
     "name": "stdout",
     "output_type": "stream",
     "text": [
      "Last run:  2023-12-17 09:07:06.978321\n"
     ]
    }
   ],
   "source": [
    "from datetime import datetime\n",
    "start_time  = datetime.now()\n",
    "print(\"Last run: \", start_time)"
   ]
  },
  {
   "cell_type": "code",
   "execution_count": 2,
   "id": "0b2437f0",
   "metadata": {},
   "outputs": [
    {
     "name": "stdout",
     "output_type": "stream",
     "text": [
      "http://hub.toolforge.org/Q10713236?property=P131&lang=sv&format=json\n",
      "http://hub.toolforge.org/Q89033709?property=P131&lang=sv&format=json\n",
      "http://hub.toolforge.org/Q89904128?property=P131&lang=sv&format=json\n",
      "http://hub.toolforge.org/Q89018995?property=P131&lang=sv&format=json\n",
      "http://hub.toolforge.org/Q10428882?property=P131&lang=sv&format=json\n"
     ]
    }
   ],
   "source": [
    "indata = {\"Q89904128\",\"Q89018995\",\"Q89033709\",\"Q10428882\",\"Q10713236\"}\n",
    "\n",
    "urlbase = \"http://hub.toolforge.org/{0}?property=P131&lang=sv&format=json\"\n",
    "\n",
    "for qnumber in indata:\n",
    "    url = urlbase.format(qnumber)\n",
    "    print(url)"
   ]
  },
  {
   "cell_type": "code",
   "execution_count": 3,
   "id": "09c18cd1",
   "metadata": {},
   "outputs": [
    {
     "name": "stdout",
     "output_type": "stream",
     "text": [
      "{\n",
      "  \"origin\": {\n",
      "    \"id\": \"Q10713236\"\n",
      "  },\n",
      "  \"destination\": {\n",
      "    \"properties\": \"P131\",\n",
      "    \"langs\": [\n",
      "      \"sv\"\n",
      "    ],\n",
      "    \"sites\": [\n",
      "      \"wiki\"\n",
      "    ],\n",
      "    \"preferedSitelink\": {\n",
      "      \"site\": \"svwiki\",\n",
      "      \"title\": \"Stockholms kommun\",\n",
      "      \"badges\": []\n",
      "    },\n",
      "    \"url\": \"https://sv.wikipedia.org/wiki/Stockholms_kommun\"\n",
      "  }\n",
      "}\n",
      "{\n",
      "  \"origin\": {\n",
      "    \"id\": \"Q89033709\"\n",
      "  },\n",
      "  \"destination\": {\n",
      "    \"properties\": \"P131\",\n",
      "    \"langs\": [\n",
      "      \"sv\"\n",
      "    ],\n",
      "    \"sites\": [\n",
      "      \"wiki\"\n",
      "    ],\n",
      "    \"preferedSitelink\": {\n",
      "      \"site\": \"svwiki\",\n",
      "      \"title\": \"Karlskoga kommun\",\n",
      "      \"badges\": []\n",
      "    },\n",
      "    \"url\": \"https://sv.wikipedia.org/wiki/Karlskoga_kommun\"\n",
      "  }\n",
      "}\n",
      "{\n",
      "  \"origin\": {\n",
      "    \"id\": \"Q89904128\"\n",
      "  },\n",
      "  \"destination\": {\n",
      "    \"properties\": \"P131\",\n",
      "    \"langs\": [\n",
      "      \"sv\"\n",
      "    ],\n",
      "    \"sites\": [\n",
      "      \"wiki\"\n",
      "    ],\n",
      "    \"preferedSitelink\": {\n",
      "      \"site\": \"svwiki\",\n",
      "      \"title\": \"Skellefte\\u00e5 kommun\",\n",
      "      \"badges\": []\n",
      "    },\n",
      "    \"url\": \"https://sv.wikipedia.org/wiki/Skellefte%C3%A5_kommun\"\n",
      "  }\n",
      "}\n",
      "{\n",
      "  \"origin\": {\n",
      "    \"id\": \"Q89018995\"\n",
      "  },\n",
      "  \"destination\": {\n",
      "    \"properties\": \"P131\",\n",
      "    \"langs\": [\n",
      "      \"sv\"\n",
      "    ],\n",
      "    \"sites\": [\n",
      "      \"wiki\"\n",
      "    ],\n",
      "    \"preferedSitelink\": {\n",
      "      \"site\": \"svwiki\",\n",
      "      \"title\": \"Olofstr\\u00f6ms kommun\",\n",
      "      \"badges\": []\n",
      "    },\n",
      "    \"url\": \"https://sv.wikipedia.org/wiki/Olofstr%C3%B6ms_kommun\"\n",
      "  }\n",
      "}\n",
      "{\n",
      "  \"origin\": {\n",
      "    \"id\": \"Q10428882\"\n",
      "  },\n",
      "  \"destination\": {\n",
      "    \"properties\": \"P131\",\n",
      "    \"langs\": [\n",
      "      \"sv\"\n",
      "    ],\n",
      "    \"sites\": [\n",
      "      \"wiki\"\n",
      "    ],\n",
      "    \"preferedSitelink\": {\n",
      "      \"site\": \"svwiki\",\n",
      "      \"title\": \"Stockholms kommun\",\n",
      "      \"badges\": []\n",
      "    },\n",
      "    \"url\": \"https://sv.wikipedia.org/wiki/Stockholms_kommun\"\n",
      "  }\n",
      "}\n"
     ]
    }
   ],
   "source": [
    "## get json and read preferedSitelink \n",
    "import json\n",
    "import urllib3 \n",
    "\n",
    "http = urllib3.PoolManager()\n",
    "for qnumber in indata:\n",
    "    url = urlbase.format(qnumber)\n",
    "    response = http.request('GET', url)\n",
    "    data = response.data\n",
    "    values = json.loads(data)\n",
    "    print(json.dumps(values, indent=2))\n"
   ]
  },
  {
   "cell_type": "code",
   "execution_count": 4,
   "id": "817dbdc4",
   "metadata": {},
   "outputs": [
    {
     "name": "stdout",
     "output_type": "stream",
     "text": [
      "Q10713236 | Stockholms kommun\n",
      "Q89033709 | Karlskoga kommun\n",
      "Q89904128 | Skellefteå kommun\n",
      "Q89018995 | Olofströms kommun\n",
      "Q10428882 | Stockholms kommun\n"
     ]
    }
   ],
   "source": [
    "## read json destination/preferedSitelink/title   \n",
    "import json\n",
    "import urllib3 \n",
    "\n",
    "http = urllib3.PoolManager()\n",
    "for qnumber in indata:\n",
    "    url = urlbase.format(qnumber)\n",
    "    response = http.request('GET', url)\n",
    "    data = response.data\n",
    "    values = json.loads(data)\n",
    "    print(qnumber,\"|\", values['destination']['preferedSitelink']['title'])"
   ]
  },
  {
   "cell_type": "code",
   "execution_count": 5,
   "id": "e87e3bb2",
   "metadata": {},
   "outputs": [
    {
     "name": "stdout",
     "output_type": "stream",
     "text": [
      "Ended:  2023-12-17 09:07:11.205955\n",
      "Time elapsed (hh:mm:ss.ms) 0:00:04.229843\n"
     ]
    }
   ],
   "source": [
    "end = datetime.now()\n",
    "print(\"Ended: \", end) \n",
    "print('Time elapsed (hh:mm:ss.ms) {}'.format(datetime.now() - start_time))"
   ]
  },
  {
   "cell_type": "code",
   "execution_count": null,
   "id": "8dd3a8a7",
   "metadata": {},
   "outputs": [],
   "source": []
  }
 ],
 "metadata": {
  "kernelspec": {
   "display_name": "Python 3 (ipykernel)",
   "language": "python",
   "name": "python3"
  },
  "language_info": {
   "codemirror_mode": {
    "name": "ipython",
    "version": 3
   },
   "file_extension": ".py",
   "mimetype": "text/x-python",
   "name": "python",
   "nbconvert_exporter": "python",
   "pygments_lexer": "ipython3",
   "version": "3.11.5"
  }
 },
 "nbformat": 4,
 "nbformat_minor": 5
}
