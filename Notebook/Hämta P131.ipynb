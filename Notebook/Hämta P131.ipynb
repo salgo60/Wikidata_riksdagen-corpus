{
 "cells": [
  {
   "cell_type": "markdown",
   "id": "c0a3d67d",
   "metadata": {},
   "source": [
    "### Hämta P131 med URL\n",
    "se [issue 10](https://github.com/perrohdin/Bildhistoria-Masterdata-och-Wikidata/issues/10)"
   ]
  },
  {
   "cell_type": "code",
   "execution_count": 28,
   "id": "92d9ab51",
   "metadata": {},
   "outputs": [
    {
     "name": "stdout",
     "output_type": "stream",
     "text": [
      "http://hub.toolforge.org/Q89904128?property=P131&lang=sv&format=json\n",
      "http://hub.toolforge.org/Q10713236?property=P131&lang=sv&format=json\n",
      "http://hub.toolforge.org/Q10428882?property=P131&lang=sv&format=json\n",
      "http://hub.toolforge.org/Q89033709?property=P131&lang=sv&format=json\n",
      "http://hub.toolforge.org/Q89018995?property=P131&lang=sv&format=json\n"
     ]
    }
   ],
   "source": [
    "indata = {\"Q89904128\",\"Q89018995\",\"Q89033709\",\"Q10428882\",\"Q10713236\"}\n",
    "\n",
    "urlbase = \"http://hub.toolforge.org/{0}?property=P131&lang=sv&format=json\"\n",
    "\n",
    "for qnumber in indata:\n",
    "    url = urlbase.format(qnumber)\n",
    "    print(url)"
   ]
  },
  {
   "cell_type": "code",
   "execution_count": 29,
   "id": "ea159c8d",
   "metadata": {},
   "outputs": [
    {
     "name": "stdout",
     "output_type": "stream",
     "text": [
      "{\n",
      "  \"origin\": {\n",
      "    \"id\": \"Q89904128\"\n",
      "  },\n",
      "  \"destination\": {\n",
      "    \"properties\": \"P131\",\n",
      "    \"langs\": [\n",
      "      \"sv\"\n",
      "    ],\n",
      "    \"sites\": [\n",
      "      \"wiki\"\n",
      "    ],\n",
      "    \"preferedSitelink\": {\n",
      "      \"site\": \"svwiki\",\n",
      "      \"title\": \"Skellefte\\u00e5 kommun\",\n",
      "      \"badges\": []\n",
      "    },\n",
      "    \"url\": \"https://sv.wikipedia.org/wiki/Skellefte%C3%A5_kommun\"\n",
      "  }\n",
      "}\n",
      "{\n",
      "  \"origin\": {\n",
      "    \"id\": \"Q10713236\"\n",
      "  },\n",
      "  \"destination\": {\n",
      "    \"properties\": \"P131\",\n",
      "    \"langs\": [\n",
      "      \"sv\"\n",
      "    ],\n",
      "    \"sites\": [\n",
      "      \"wiki\"\n",
      "    ],\n",
      "    \"preferedSitelink\": {\n",
      "      \"site\": \"svwiki\",\n",
      "      \"title\": \"Stockholms kommun\",\n",
      "      \"badges\": []\n",
      "    },\n",
      "    \"url\": \"https://sv.wikipedia.org/wiki/Stockholms_kommun\"\n",
      "  }\n",
      "}\n",
      "{\n",
      "  \"origin\": {\n",
      "    \"id\": \"Q10428882\"\n",
      "  },\n",
      "  \"destination\": {\n",
      "    \"properties\": \"P131\",\n",
      "    \"langs\": [\n",
      "      \"sv\"\n",
      "    ],\n",
      "    \"sites\": [\n",
      "      \"wiki\"\n",
      "    ],\n",
      "    \"preferedSitelink\": {\n",
      "      \"site\": \"svwiki\",\n",
      "      \"title\": \"Stockholms kommun\",\n",
      "      \"badges\": []\n",
      "    },\n",
      "    \"url\": \"https://sv.wikipedia.org/wiki/Stockholms_kommun\"\n",
      "  }\n",
      "}\n",
      "{\n",
      "  \"origin\": {\n",
      "    \"id\": \"Q89033709\"\n",
      "  },\n",
      "  \"destination\": {\n",
      "    \"properties\": \"P131\",\n",
      "    \"langs\": [\n",
      "      \"sv\"\n",
      "    ],\n",
      "    \"sites\": [\n",
      "      \"wiki\"\n",
      "    ],\n",
      "    \"preferedSitelink\": {\n",
      "      \"site\": \"svwiki\",\n",
      "      \"title\": \"Karlskoga kommun\",\n",
      "      \"badges\": []\n",
      "    },\n",
      "    \"url\": \"https://sv.wikipedia.org/wiki/Karlskoga_kommun\"\n",
      "  }\n",
      "}\n",
      "{\n",
      "  \"origin\": {\n",
      "    \"id\": \"Q89018995\"\n",
      "  },\n",
      "  \"destination\": {\n",
      "    \"properties\": \"P131\",\n",
      "    \"langs\": [\n",
      "      \"sv\"\n",
      "    ],\n",
      "    \"sites\": [\n",
      "      \"wiki\"\n",
      "    ],\n",
      "    \"preferedSitelink\": {\n",
      "      \"site\": \"svwiki\",\n",
      "      \"title\": \"Olofstr\\u00f6ms kommun\",\n",
      "      \"badges\": []\n",
      "    },\n",
      "    \"url\": \"https://sv.wikipedia.org/wiki/Olofstr%C3%B6ms_kommun\"\n",
      "  }\n",
      "}\n"
     ]
    }
   ],
   "source": [
    "## get json and read preferedSitelink \n",
    "import json\n",
    "import urllib3 \n",
    "\n",
    "http = urllib3.PoolManager()\n",
    "for qnumber in indata:\n",
    "    url = urlbase.format(qnumber)\n",
    "    response = http.request('GET', url)\n",
    "    data = response.data\n",
    "    values = json.loads(data)\n",
    "    print(json.dumps(values, indent=2))\n"
   ]
  },
  {
   "cell_type": "code",
   "execution_count": 30,
   "id": "bad460bc",
   "metadata": {},
   "outputs": [
    {
     "name": "stdout",
     "output_type": "stream",
     "text": [
      "Q89904128 | Skellefteå kommun\n",
      "Q10713236 | Stockholms kommun\n",
      "Q10428882 | Stockholms kommun\n",
      "Q89033709 | Karlskoga kommun\n",
      "Q89018995 | Olofströms kommun\n"
     ]
    }
   ],
   "source": [
    "## read json destination/preferedSitelink/title   \n",
    "import json\n",
    "import urllib3 \n",
    "\n",
    "http = urllib3.PoolManager()\n",
    "for qnumber in indata:\n",
    "    url = urlbase.format(qnumber)\n",
    "    response = http.request('GET', url)\n",
    "    data = response.data\n",
    "    values = json.loads(data)\n",
    "    print(qnumber,\"|\", values['destination']['preferedSitelink']['title'])"
   ]
  },
  {
   "cell_type": "code",
   "execution_count": null,
   "id": "d5cc6761",
   "metadata": {},
   "outputs": [],
   "source": []
  },
  {
   "cell_type": "code",
   "execution_count": null,
   "id": "5e165219",
   "metadata": {},
   "outputs": [],
   "source": []
  }
 ],
 "metadata": {
  "kernelspec": {
   "display_name": "Python 3 (ipykernel)",
   "language": "python",
   "name": "python3"
  },
  "language_info": {
   "codemirror_mode": {
    "name": "ipython",
    "version": 3
   },
   "file_extension": ".py",
   "mimetype": "text/x-python",
   "name": "python",
   "nbconvert_exporter": "python",
   "pygments_lexer": "ipython3",
   "version": "3.11.5"
  }
 },
 "nbformat": 4,
 "nbformat_minor": 5
}
